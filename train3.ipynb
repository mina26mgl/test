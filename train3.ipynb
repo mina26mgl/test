{
  "cells": [
    {
      "cell_type": "markdown",
      "metadata": {
        "id": "view-in-github",
        "colab_type": "text"
      },
      "source": [
        "<a href=\"https://colab.research.google.com/github/mina26mgl/test/blob/master/train3.ipynb\" target=\"_parent\"><img src=\"https://colab.research.google.com/assets/colab-badge.svg\" alt=\"Open In Colab\"/></a>"
      ]
    },
    {
      "cell_type": "code",
      "execution_count": null,
      "metadata": {
        "id": "lP_ng8PWqRVf"
      },
      "outputs": [],
      "source": [
        "import pandas as pd\n",
        "import numpy as np\n",
        "import matplotlib.pyplot as plt\n",
        "import matplotlib.image as mpimg\n",
        "import seaborn as sns\n",
        "from torch.utils.data import DataLoader\n",
        "%matplotlib inline\n",
        "np.random.seed(2)\n",
        "from sklearn.model_selection import train_test_split\n",
        "from sklearn.metrics import classification_report, confusion_matrix, accuracy_score\n",
        "import itertools\n",
        "from keras.utils.np_utils import to_categorical # convert to one-hot-encoding\n",
        "from keras.models import Sequential\n",
        "from keras.layers import Dense, Dropout, Flatten, Conv2D, MaxPool2D\n",
        "from keras.optimizers import RMSprop\n",
        "from keras.preprocessing.image import ImageDataGenerator\n",
        "from keras.callbacks import ReduceLROnPlateau, EarlyStopping\n"
      ]
    },
    {
      "cell_type": "code",
      "execution_count": null,
      "metadata": {
        "id": "MH0V8nlYqRVg"
      },
      "outputs": [],
      "source": [
        "\n",
        "sns.set(style='white', context='notebook', palette='deep')"
      ]
    },
    {
      "cell_type": "code",
      "execution_count": null,
      "metadata": {
        "id": "GyC5jfJGqRVg"
      },
      "outputs": [],
      "source": [
        "from PIL import Image\n",
        "import os\n",
        "from pylab import *\n",
        "import re\n",
        "from PIL import Image, ImageChops, ImageEnhance\n",
        "from sklearn.preprocessing import LabelEncoder"
      ]
    },
    {
      "cell_type": "code",
      "execution_count": null,
      "metadata": {
        "id": "XfB9VvmYqRVh"
      },
      "outputs": [],
      "source": [
        "import os\n",
        "import numpy as np\n",
        "from PIL import Image, ImageChops, ImageEnhance, ImageFilter\n",
        "\n",
        "def pre_process_image(img_path):\n",
        "\n",
        "    img = Image.open(img_path)\n",
        "    img = img.convert('RGB')\n",
        "    return img\n",
        "\n",
        "def _ela_image(path):\n",
        "    quality=50\n",
        "    DIR = \"temp/\"\n",
        "    TEMP = \"temp.jpg\"\n",
        "    ELA_FILENAME = os.path.basename(path).split('.')[0] + '.ela.png'\n",
        "\n",
        "    # Compute ELA image\n",
        "    im = Image.open(path).convert('RGB')\n",
        "    im.save(TEMP, 'JPEG', quality=quality)\n",
        "    resaved_im = Image.open(TEMP)\n",
        "    ela_im = ImageChops.difference(im, resaved_im)\n",
        "    extrema = ela_im.getextrema()\n",
        "    max_diff = max([ex[1] for ex in extrema])\n",
        "    if max_diff == 0:\n",
        "        max_diff = 1\n",
        "    scale = 255.0 / max_diff\n",
        "    ela_im = ImageEnhance.Brightness(ela_im).enhance(scale)\n",
        "\n",
        "    # Save ELA image\n",
        "    if not os.path.isdir(DIR):\n",
        "         os.mkdir(DIR)\n",
        "    ela_im.save(os.path.join(DIR, ELA_FILENAME))\n",
        "\n",
        "    # Return ELA image as numpy array\n",
        "    return np.array(ela_im)\n",
        "\n",
        "def _laplacian_image(path):\n",
        "    threshold=50\n",
        "    im = Image.open(path).convert('L')\n",
        "    laplacian_im = im.filter(ImageFilter.Kernel((3, 3), [-1, -1, -1, -1, 8, -1, -1, -1, -1], scale=1))\n",
        "    laplacian_im = ImageEnhance.Brightness(laplacian_im).enhance(10.0)\n",
        "    thresholded_im = laplacian_im.point(lambda x: 255 if x > threshold else 0)\n",
        "    return np.array(thresholded_im)\n",
        "\n",
        "def _sobel_image(path):\n",
        "    threshold=50\n",
        "    im = Image.open(path).convert('L')\n",
        "    sobel_x = im.filter(ImageFilter.Kernel((3, 3), [-1, 0, 1, -2, 0, 2, -1, 0, 1], scale=1))\n",
        "    sobel_y = im.filter(ImageFilter.Kernel((3, 3), [-1, -2, -1, 0, 0, 0, 1, 2, 1], scale=1))\n",
        "    sobel_im = ImageChops.add(sobel_x, sobel_y)\n",
        "    sobel_im = ImageEnhance.Brightness(sobel_im).enhance(10.0)\n",
        "    thresholded_im = sobel_im.point(lambda x: 255 if x > threshold else 0)\n",
        "    return np.array(thresholded_im)\n",
        "\n",
        "\n",
        "def _canny_image(path):\n",
        "    low_threshold=50\n",
        "    high_threshold=150\n",
        "    im = Image.open(path).convert('L')\n",
        "    canny_im = im.filter(ImageFilter.Kernel((3, 3), [-1, -1, -1, -1, 8, -1, -1, -1, -1], scale=1))\n",
        "    canny_im = canny_im.filter(ImageFilter.CONTOUR)\n",
        "    canny_im = canny_im.filter(ImageFilter.Kernel((3, 3), [-1, -1, -1, -1, 0, -1, -1, -1, -1], scale=1))\n",
        "    canny_im = canny_im.filter(ImageFilter.Kernel((3, 3), [-1, -1, -1, -1, 8, -1, -1, -1, -1], scale=1))\n",
        "    canny_im = canny_im.filter(ImageFilter.FIND_EDGES)\n",
        "    canny_im = ImageEnhance.Brightness(canny_im).enhance(10.0)\n",
        "    canny_im = canny_im.filter(ImageFilter.Kernel((3, 3), [-1, -1, -1, -1, 0, -1, -1, -1, -1], scale=1))\n",
        "    canny_im = canny_im.filter(ImageFilter.Kernel((3, 3), [-1, -1, -1, -1, 8, -1, -1, -1, -1], scale=1))\n",
        "    canny_im = canny_im.filter(ImageFilter.FIND_EDGES)\n",
        "    canny_im = canny_im.filter(ImageFilter.Kernel((3, 3), [-1, -1, -1, -1, 0, -1, -1, -1, -1], scale=1))\n",
        "    canny_im = canny_im.filter(ImageFilter.Kernel((3, 3), [-1, -1, -1, -1, 8, -1, -1, -1, -1], scale=1))\n",
        "    canny_im = canny_im.filter(ImageFilter.FIND_EDGES)\n",
        "    thresholded_im = canny_im.point(lambda x: 255 if x > low_threshold and x < high_threshold else 0)\n",
        "    return np.array(thresholded_im)\n",
        "\n"
      ]
    },
    {
      "cell_type": "code",
      "execution_count": null,
      "metadata": {
        "id": "2v37_rSqqRVh"
      },
      "outputs": [],
      "source": [
        "\n",
        "dataset = pd.read_csv('C:/Users/HP/Desktop/pfe/python_pfe/dataset.csv')"
      ]
    },
    {
      "cell_type": "code",
      "execution_count": null,
      "metadata": {
        "id": "Rf73Pfk7qRVh"
      },
      "outputs": [],
      "source": [
        "X = np.empty((dataset.shape[0], 49152))\n",
        "Y = []"
      ]
    },
    {
      "cell_type": "code",
      "execution_count": null,
      "metadata": {
        "id": "brNLlN50qRVi"
      },
      "outputs": [],
      "source": [
        "X = np.zeros((len(dataset), 128 * 128 * 3))\n",
        "Y = []\n",
        "\n",
        "for i, row in dataset.iterrows():\n",
        "    img = pre_process_image(row[0])\n",
        "    if img is not None:\n",
        "        img_resized = img.resize((128, 128))\n",
        "        img_arr = np.array(img_resized).flatten() / 255.0\n",
        "        X[i] = img_arr\n",
        "        Y.append(row[1])\n",
        "\n",
        "Y = np.array(Y)\n"
      ]
    },
    {
      "cell_type": "code",
      "execution_count": null,
      "metadata": {
        "id": "esJ4UDFdqRVi",
        "outputId": "fc7408c3-4655-4115-ca98-9e8501c801fc"
      },
      "outputs": [
        {
          "name": "stdout",
          "output_type": "stream",
          "text": [
            "[[0.25490196 0.30588235 0.35294118 ... 0.64313725 0.64313725 0.60392157]\n",
            " [0.04705882 0.07058824 0.10980392 ... 0.39215686 0.45882353 0.52156863]\n",
            " [0.60392157 0.60784314 0.62352941 ... 0.54117647 0.51764706 0.46666667]\n",
            " ...\n",
            " [0.63137255 0.62745098 0.63529412 ... 0.49019608 0.48235294 0.45490196]\n",
            " [0.85098039 0.86666667 0.86666667 ... 0.39607843 0.41568627 0.41176471]\n",
            " [0.82352941 0.78823529 0.71764706 ... 0.36078431 0.36862745 0.35686275]]\n",
            "[0 1 0 1 0 1 0 1 0 1 0 1 0 1 0 1 0 1 0 1 0 1 0 1 0 1 0 1 0 1 0 1 0 1 0 1 0\n",
            " 1 0 1 0 1 0 1 0 1 0 0 0 0 0 0 0 0 0 0 0 0 0 0 0 0 0 0 0 0 0 0 0 0 0 0 0 0\n",
            " 0 0 0 0 0 0 0 0 0 0 0 0 0 0 0 0 0 0 0 0 0 0 0 0 0 0 0 0 0 0 0 0 0 0 1 0 1\n",
            " 0 1 0 1 0 1 0 1 0 1 0 1 0 1 0 1 0 1 0 1 0 1 0 1 0 1 0 1 0 1 0 1 0 1 0 1 0\n",
            " 1 0 1 0 1 0 0 0 0 0 0 0 0 0 0 0 0 0 0 0 0 0 0 0 0 0 0 0 0 0 0 0 0 0 0 0 0\n",
            " 0 0 0 0 0 0 0 0 0 0 0 0 0 0 0 0 0 0 0 0 0 0 0 0 0 0 0 0 0]\n"
          ]
        }
      ],
      "source": [
        "for index, row in dataset.iterrows():\n",
        "\n",
        "    x = array(pre_process_image(row[0]).resize((128, 128))).flatten() / 255.0\n",
        "    X = np.concatenate((X, [x]))\n",
        "    Y = np.concatenate((Y, [row[1]]))\n",
        "print(X)\n",
        "print(Y)"
      ]
    },
    {
      "cell_type": "code",
      "execution_count": null,
      "metadata": {
        "id": "MLJAzq9ZqRVj",
        "outputId": "9f22b8fa-dac9-435e-f5ad-24ab25931436"
      },
      "outputs": [
        {
          "name": "stdout",
          "output_type": "stream",
          "text": [
            "(214, 128, 128, 3)\n",
            "(214,)\n"
          ]
        }
      ],
      "source": [
        "X = X.reshape(-1, 128, 128, 3)\n",
        "X = np.array(X).reshape(-1, 128, 128, 3)\n",
        "\n",
        "Y = np.array(Y).flatten()\n",
        "print(X.shape)\n",
        "print(Y.shape)"
      ]
    },
    {
      "cell_type": "code",
      "execution_count": null,
      "metadata": {
        "id": "aU2CKLECqRVj"
      },
      "outputs": [],
      "source": [
        "from sklearn.model_selection import train_test_split\n",
        "\n",
        "# X contient vos données d'images et y contient les labels correspondants\n",
        "X_trainval, X_test, Y_trainval, Y_test = train_test_split(X, Y, test_size=0.1, random_state=42)\n",
        "X_train, X_val, Y_train, Y_val = train_test_split(X_trainval, Y_trainval, test_size=0.2, random_state=42)\n",
        "\n",
        "\n"
      ]
    },
    {
      "cell_type": "code",
      "execution_count": null,
      "metadata": {
        "id": "u9abFFt5qRVj",
        "outputId": "730fbe03-8bd4-4055-e328-60c4a70dab28"
      },
      "outputs": [
        {
          "name": "stdout",
          "output_type": "stream",
          "text": [
            "(153, 128, 128, 3)\n",
            "(153, 2)\n",
            "(39, 2)\n",
            "(22, 128, 128, 3)\n",
            "(22,)\n",
            "(39, 128, 128, 3)\n"
          ]
        }
      ],
      "source": [
        "encoder = LabelEncoder()\n",
        "Y_train = to_categorical(encoder.fit_transform(Y_train))\n",
        "Y_val = to_categorical(encoder.transform(Y_val))\n",
        "print(X_train.shape)\n",
        "print(Y_train.shape)\n",
        "print(Y_val.shape)\n",
        "print(X_test.shape)\n",
        "print(Y_test.shape)\n",
        "print(X_val.shape)"
      ]
    },
    {
      "cell_type": "code",
      "execution_count": null,
      "metadata": {
        "id": "xY2B4oKZqRVk",
        "outputId": "ee3ef13f-4a3d-45cd-e1b4-5e9ada489bbb"
      },
      "outputs": [
        {
          "name": "stdout",
          "output_type": "stream",
          "text": [
            "(153, 128, 128, 3)\n"
          ]
        }
      ],
      "source": [
        "from keras.models import Sequential\n",
        "from keras.layers import Conv2D, MaxPooling2D, Dropout\n",
        "from keras.layers import Flatten\n",
        "from keras.layers import Dense\n",
        "# from keras.activations import sigmoid\n",
        "\n",
        "\n",
        "model = Sequential()\n",
        "\n",
        "\n",
        "model.add(Conv2D(filters=32, kernel_size=(3, 3), activation='relu', input_shape=(128, 128, 3)))\n",
        "model.add(MaxPooling2D((2, 2)))\n",
        "model.add(Conv2D(filters=64, kernel_size=(3, 3),  activation='relu'))\n",
        "model.add(MaxPooling2D(pool_size=(2, 2)))\n",
        "model.add(Conv2D(64, (3, 3), activation='relu'))\n",
        "model.add(MaxPooling2D(pool_size=(2, 2)))\n",
        "model.add(Conv2D(128, (3, 3), activation='relu'))\n",
        "model.add(Flatten())\n",
        "model.add(Dense(128, activation='relu'))\n",
        "model.add(Dropout(0.5))\n",
        "model.add(Dense(2, activation='softmax'))\n",
        "# model.add(Dense(1, activation='sigmoid'))\n",
        "\n",
        "print(X_train.shape)\n"
      ]
    },
    {
      "cell_type": "code",
      "execution_count": null,
      "metadata": {
        "id": "6jvqOvOIqRVk",
        "outputId": "50979c0f-6b50-4bfd-ced4-c8cf28384581"
      },
      "outputs": [
        {
          "name": "stdout",
          "output_type": "stream",
          "text": [
            "Model: \"sequential\"\n",
            "_________________________________________________________________\n",
            " Layer (type)                Output Shape              Param #   \n",
            "=================================================================\n",
            " conv2d (Conv2D)             (None, 126, 126, 32)      896       \n",
            "                                                                 \n",
            " max_pooling2d (MaxPooling2D  (None, 63, 63, 32)       0         \n",
            " )                                                               \n",
            "                                                                 \n",
            " conv2d_1 (Conv2D)           (None, 61, 61, 64)        18496     \n",
            "                                                                 \n",
            " max_pooling2d_1 (MaxPooling  (None, 30, 30, 64)       0         \n",
            " 2D)                                                             \n",
            "                                                                 \n",
            " conv2d_2 (Conv2D)           (None, 28, 28, 64)        36928     \n",
            "                                                                 \n",
            " max_pooling2d_2 (MaxPooling  (None, 14, 14, 64)       0         \n",
            " 2D)                                                             \n",
            "                                                                 \n",
            " conv2d_3 (Conv2D)           (None, 12, 12, 128)       73856     \n",
            "                                                                 \n",
            " flatten (Flatten)           (None, 18432)             0         \n",
            "                                                                 \n",
            " dense (Dense)               (None, 128)               2359424   \n",
            "                                                                 \n",
            " dropout (Dropout)           (None, 128)               0         \n",
            "                                                                 \n",
            " dense_1 (Dense)             (None, 2)                 258       \n",
            "                                                                 \n",
            "=================================================================\n",
            "Total params: 2,489,858\n",
            "Trainable params: 2,489,858\n",
            "Non-trainable params: 0\n",
            "_________________________________________________________________\n",
            "(153, 128, 128, 3)\n",
            "(153, 2)\n"
          ]
        }
      ],
      "source": [
        "model.summary()\n",
        "print(X_train.shape)\n",
        "print(Y_train.shape)"
      ]
    },
    {
      "cell_type": "code",
      "execution_count": null,
      "metadata": {
        "id": "5ND6TpK6qRVk"
      },
      "outputs": [],
      "source": [
        "from keras.optimizers import Adam\n",
        "\n",
        "optimizer = Adam(learning_rate=0.0005)\n"
      ]
    },
    {
      "cell_type": "code",
      "execution_count": null,
      "metadata": {
        "id": "7B-uZ6niqRVk",
        "outputId": "45dc258c-92e2-45f5-cbf1-64d804f5e1c4"
      },
      "outputs": [
        {
          "name": "stdout",
          "output_type": "stream",
          "text": [
            "(153, 128, 128, 3)\n"
          ]
        }
      ],
      "source": [
        "model.compile(optimizer = optimizer, loss = 'binary_crossentropy', metrics = ['accuracy'])\n",
        "\n",
        "print(X_train.shape)"
      ]
    },
    {
      "cell_type": "code",
      "execution_count": null,
      "metadata": {
        "id": "pTqgewCwqRVk",
        "outputId": "660113ae-e261-4634-b0d9-e662c92ea9a5"
      },
      "outputs": [
        {
          "name": "stdout",
          "output_type": "stream",
          "text": [
            "(153, 128, 128, 3)\n"
          ]
        }
      ],
      "source": [
        "from keras.callbacks import EarlyStopping\n",
        "\n",
        "early_stopping = EarlyStopping(monitor='val_loss',\n",
        "                              min_delta=0,\n",
        "                              patience=10,\n",
        "                              verbose=0, mode='auto')\n",
        "print(X_train.shape)"
      ]
    },
    {
      "cell_type": "code",
      "execution_count": null,
      "metadata": {
        "id": "9qh2r5BDqRVl",
        "outputId": "538aad3b-4ae8-43ac-ac56-7aefa5589db7"
      },
      "outputs": [
        {
          "name": "stdout",
          "output_type": "stream",
          "text": [
            "(153, 128, 128, 3)\n",
            "(22,)\n"
          ]
        }
      ],
      "source": [
        "epochs = 10\n",
        "batch_size = 16\n",
        "print(X_train.shape)\n",
        "print(Y_test.shape)"
      ]
    },
    {
      "cell_type": "code",
      "execution_count": null,
      "metadata": {
        "id": "DnV0W1UvqRVl",
        "outputId": "82db6159-1704-41de-f255-d4befb40355a"
      },
      "outputs": [
        {
          "name": "stdout",
          "output_type": "stream",
          "text": [
            "(22,)\n",
            "(22, 2)\n"
          ]
        }
      ],
      "source": [
        "\n",
        "print(Y_test.shape)\n",
        "# Modifier les dimensions des labels\n",
        "Y_test = to_categorical(Y_test, num_classes=2)\n",
        "print(Y_test.shape)"
      ]
    },
    {
      "cell_type": "code",
      "execution_count": null,
      "metadata": {
        "id": "ubL1rwgNqRVl",
        "outputId": "c0b8a2ed-585a-432b-933a-c6e68569d3e6"
      },
      "outputs": [
        {
          "name": "stdout",
          "output_type": "stream",
          "text": [
            "(153, 2)\n",
            "(153, 128, 128, 3)\n",
            "Epoch 1/10\n",
            "10/10 - 9s - loss: 0.5491 - accuracy: 0.7843 - val_loss: 0.7163 - val_accuracy: 0.6923 - 9s/epoch - 941ms/step\n",
            "Epoch 2/10\n",
            "10/10 - 6s - loss: 0.4472 - accuracy: 0.8039 - val_loss: 0.5442 - val_accuracy: 0.6923 - 6s/epoch - 572ms/step\n",
            "Epoch 3/10\n",
            "10/10 - 5s - loss: 0.4214 - accuracy: 0.8039 - val_loss: 0.4324 - val_accuracy: 0.6923 - 5s/epoch - 483ms/step\n",
            "Epoch 4/10\n",
            "10/10 - 5s - loss: 0.3113 - accuracy: 0.8301 - val_loss: 0.2972 - val_accuracy: 0.8974 - 5s/epoch - 488ms/step\n",
            "Epoch 5/10\n",
            "10/10 - 5s - loss: 0.1842 - accuracy: 0.9542 - val_loss: 0.2681 - val_accuracy: 0.9231 - 5s/epoch - 496ms/step\n",
            "Epoch 6/10\n",
            "10/10 - 5s - loss: 0.1929 - accuracy: 0.9608 - val_loss: 0.2909 - val_accuracy: 0.8205 - 5s/epoch - 515ms/step\n",
            "Epoch 7/10\n",
            "10/10 - 4s - loss: 0.1705 - accuracy: 0.9150 - val_loss: 0.1954 - val_accuracy: 0.9744 - 4s/epoch - 444ms/step\n",
            "Epoch 8/10\n",
            "10/10 - 5s - loss: 0.1167 - accuracy: 0.9673 - val_loss: 0.1085 - val_accuracy: 0.9744 - 5s/epoch - 465ms/step\n",
            "Epoch 9/10\n",
            "10/10 - 5s - loss: 0.0896 - accuracy: 0.9739 - val_loss: 0.0743 - val_accuracy: 1.0000 - 5s/epoch - 480ms/step\n",
            "Epoch 10/10\n",
            "10/10 - 5s - loss: 0.0830 - accuracy: 0.9739 - val_loss: 0.0714 - val_accuracy: 0.9744 - 5s/epoch - 491ms/step\n"
          ]
        }
      ],
      "source": [
        "print(Y_train.shape)\n",
        "print(X_train.shape)\n",
        "\n",
        "history = model.fit(X_train, Y_train, batch_size = batch_size, epochs = epochs, shuffle=True,\n",
        "          validation_data = (X_val, Y_val), verbose = 2, callbacks=[early_stopping])"
      ]
    },
    {
      "cell_type": "code",
      "execution_count": null,
      "metadata": {
        "id": "pnfQwbPsqRVl",
        "outputId": "f14358bb-ce3a-4a46-ac8f-7a0ae9cfb06e"
      },
      "outputs": [
        {
          "name": "stdout",
          "output_type": "stream",
          "text": [
            "(22, 128, 128, 3)\n",
            "(22, 2)\n",
            "Accuracy sur l'ensemble de test: 1.0\n"
          ]
        }
      ],
      "source": [
        "print(X_test.shape)\n",
        "print(Y_test.shape)\n",
        "test_loss, test_acc = model.evaluate(X_test, Y_test, verbose=0)\n",
        "print('Accuracy sur l\\'ensemble de test:', test_acc)\n"
      ]
    },
    {
      "cell_type": "code",
      "execution_count": null,
      "metadata": {
        "id": "LdYH3Za2qRVl",
        "outputId": "43d1bdc6-e994-4581-d87d-c031dddeb405"
      },
      "outputs": [
        {
          "data": {
            "image/png": "[encoded data removed]",
            "text/plain": [
              "<Figure size 640x480 with 2 Axes>"
            ]
          },
          "metadata": {},
          "output_type": "display_data"
        }
      ],
      "source": [
        "# Plot the loss and accuracy curves for training and validation\n",
        "fig, ax = plt.subplots(2,1)\n",
        "ax[0].plot(history.history['loss'], color='b', label=\"Training loss\")\n",
        "ax[0].plot(history.history['val_loss'], color='r', label=\"validation loss\",axes =ax[0])\n",
        "legend = ax[0].legend(loc='best', shadow=True)\n",
        "\n",
        "ax[1].plot(history.history['accuracy'], color='b', label=\"Training accuracy\")\n",
        "ax[1].plot(history.history['val_accuracy'], color='r',label=\"Validation accuracy\")\n",
        "legend = ax[1].legend(loc='best', shadow=True)"
      ]
    },
    {
      "cell_type": "code",
      "execution_count": null,
      "metadata": {
        "id": "8PBdnCayqRVl",
        "outputId": "07751ce2-927e-4ec1-dd66-1e53725ef51e"
      },
      "outputs": [
        {
          "name": "stdout",
          "output_type": "stream",
          "text": [
            "http://res.cloudinary.com/dyrmruoan/image/upload/v1683931466/znzpon0ekmt1vyhdwxqi.jpg\n"
          ]
        }
      ],
      "source": [
        "import cloudinary\n",
        "import cloudinary.uploader\n",
        "import cloudinary.api\n",
        "\n",
        "# Configurer votre compte Cloudinary\n",
        "cloudinary.config(\n",
        "  cloud_name=\"dyrmruoan\",\n",
        "  api_key=\"418341411657696\",\n",
        "  api_secret=\"UVhtMxBnAnZ2_VL5aupvlnTpAjM\",\n",
        "\n",
        ")\n",
        "\n",
        "# Uploadez votre image sur Cloudinary\n",
        "upload_result = cloudinary.uploader.upload(\"C:/Users/HP/Desktop/pfe/img/dataset/p23.jpg\")\n",
        "\n",
        "# Récupérer l'URL de l'image que vous avez uploadée\n",
        "image_url = upload_result[\"url\"]\n",
        "\n",
        "print(image_url)\n",
        "\n"
      ]
    },
    {
      "cell_type": "code",
      "execution_count": null,
      "metadata": {
        "id": "vZKZcprsqRVl",
        "outputId": "60064af1-5478-4312-dc65-f29ab8148a36"
      },
      "outputs": [
        {
          "ename": "TimeoutError",
          "evalue": "[WinError 10060] Une tentative de connexion a échoué car le parti connecté n’a pas répondu convenablement au-delà d’une certaine durée ou une connexion établie a échoué car l’hôte de connexion n’a pas répondu",
          "output_type": "error",
          "traceback": [
            "\u001b[1;31m---------------------------------------------------------------------------\u001b[0m",
            "\u001b[1;31mTimeoutError\u001b[0m                              Traceback (most recent call last)",
            "Cell \u001b[1;32mIn[75], line 8\u001b[0m\n\u001b[0;32m      6\u001b[0m \u001b[39mimport\u001b[39;00m \u001b[39msocket\u001b[39;00m\n\u001b[0;32m      7\u001b[0m s \u001b[39m=\u001b[39m socket\u001b[39m.\u001b[39msocket()\n\u001b[1;32m----> 8\u001b[0m s\u001b[39m.\u001b[39;49mconnect((\u001b[39m'\u001b[39;49m\u001b[39mwww.google.com\u001b[39;49m\u001b[39m'\u001b[39;49m, \u001b[39m8080\u001b[39;49m))\n\u001b[0;32m     10\u001b[0m \u001b[39m# Télécharger l'image depuis l'URL\u001b[39;00m\n\u001b[0;32m     11\u001b[0m response \u001b[39m=\u001b[39m requests\u001b[39m.\u001b[39mget(image_url)\n",
            "\u001b[1;31mTimeoutError\u001b[0m: [WinError 10060] Une tentative de connexion a échoué car le parti connecté n’a pas répondu convenablement au-delà d’une certaine durée ou une connexion établie a échoué car l’hôte de connexion n’a pas répondu"
          ]
        }
      ],
      "source": [
        "import requests\n",
        "from io import BytesIO\n",
        "from PIL import Image\n",
        "import numpy as np\n",
        "\n",
        "import socket\n",
        "s = socket.socket()\n",
        "s.connect(('www.google.com', 8080))\n",
        "\n",
        "# Télécharger l'image depuis l'URL\n",
        "response = requests.get(image_url)\n",
        "print(response.status_code)\n",
        "\n",
        "img = Image.open(BytesIO(response.content))\n",
        "if img.mode != \"RGB\":\n",
        "    # Convertir l'image en RGB\n",
        "    img = img.convert(\"RGB\")\n",
        "# Redimensionner l'image\n",
        "img = img.resize((128, 128))\n",
        "\n",
        "\n",
        "# Convertir l'image en tableau numpy\n",
        "image_array = np.array(img) / 255.0\n",
        "image_array = np.expand_dims(image_array, axis=0)\n"
      ]
    },
    {
      "cell_type": "code",
      "execution_count": null,
      "metadata": {
        "id": "e6KMdyNOqRVl"
      },
      "outputs": [],
      "source": [
        "model.save(\"C:/Users/HP/Desktop/pfe/python_pfe/model_c2.h5\" )"
      ]
    },
    {
      "cell_type": "code",
      "execution_count": null,
      "metadata": {
        "id": "EZSAhhKmqRVl",
        "outputId": "a7fd6719-90dd-4189-b131-35d83a2365c0"
      },
      "outputs": [
        {
          "name": "stdout",
          "output_type": "stream",
          "text": [
            "(1, 128, 128, 3)\n",
            "1/1 [==============================] - 0s 356ms/step\n",
            "[[0.3285697 0.6714303]]\n",
            "L'image est falsifiée.\n"
          ]
        }
      ],
      "source": [
        "from PIL import Image\n",
        "import numpy as np\n",
        "\n",
        "# Load the image\n",
        "img = Image.open(\"C:/Users/HP/Desktop/pfe/img/dataset/image10.jpg\")\n",
        "# Vérifier le mode de l'image\n",
        "if img.mode != \"RGB\":\n",
        "    # Convertir l'image en RGB\n",
        "    img = img.convert(\"RGB\")\n",
        "# Resize the image to 128x128\n",
        "img_resized = img.resize((128, 128))\n",
        "\n",
        "# Convert the image to a numpy array\n",
        "img_arr = np.array(img_resized) / 255.0\n",
        "\n",
        "# Add an extra dimension to match the expected shape of the input\n",
        "img_arr = np.expand_dims(img_arr, axis=0)\n",
        "\n",
        "print(img_arr.shape)\n",
        "# Make the prediction\n",
        "prediction = model.predict(img_arr)\n",
        "print(prediction)\n",
        "if prediction[0][0] < 0.5:\n",
        "    print(\"L'image est falsifiée.\")\n",
        "else:\n",
        "    print(\"L'image est authentique.\")\n",
        "\n"
      ]
    }
  ],
  "metadata": {
    "kernelspec": {
      "display_name": "Python 3",
      "language": "python",
      "name": "python3"
    },
    "language_info": {
      "codemirror_mode": {
        "name": "ipython",
        "version": 3
      },
      "file_extension": ".py",
      "mimetype": "text/x-python",
      "name": "python",
      "nbconvert_exporter": "python",
      "pygments_lexer": "ipython3",
      "version": "3.10.0"
    },
    "orig_nbformat": 4,
    "colab": {
      "provenance": [],
      "include_colab_link": true
    }
  },
  "nbformat": 4,
  "nbformat_minor": 0
}